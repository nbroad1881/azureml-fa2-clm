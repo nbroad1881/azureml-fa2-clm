{
 "cells": [
  {
   "cell_type": "code",
   "execution_count": 1,
   "metadata": {},
   "outputs": [
    {
     "name": "stderr",
     "output_type": "stream",
     "text": [
      "Found the config file in: config.json\n"
     ]
    }
   ],
   "source": [
    "import os\n",
    "from datetime import datetime\n",
    "\n",
    "from azure.ai.ml import MLClient, command, dsl, Input, Output\n",
    "from azure.ai.ml.entities import Environment, BuildContext, AmlCompute\n",
    "from azure.identity import InteractiveBrowserCredential\n",
    "\n",
    "credential = InteractiveBrowserCredential()\n",
    "\n",
    "PATH_TO_CONFIG_FILE = \"./config.json\"\n",
    "\n",
    "ml_client = MLClient.from_config(credential, path=PATH_TO_CONFIG_FILE)"
   ]
  },
  {
   "cell_type": "code",
   "execution_count": 2,
   "metadata": {},
   "outputs": [],
   "source": [
    "COMPUTE_MAPPING = {\n",
    "    # **Flash attention v2 only works on GPUs that start with A (A10, A100), H (H100), L (L40)**\n",
    "    \"1xA10\": \"Standard_NV36adms_A10_v5\",\n",
    "    \"2xA10\": \"Standard_NV72ads_A10_v5\",\n",
    "    \"8xA100\": \"Standard_ND96amsr_A100_v4\",\n",
    "}"
   ]
  },
  {
   "cell_type": "code",
   "execution_count": 4,
   "metadata": {},
   "outputs": [],
   "source": [
    "MODEL_NAME = \"mistral7b-summarization\"\n",
    "TRAIN_DIR = \"train\"\n",
    "TRAIN_ENV_NAME = \"fa2_train_env\"\n",
    "TRAIN_COMPUTE_NAME = \"fa2_a10\"\n",
    "TRAIN_INSTANCE_TYPE = COMPUTE_MAPPING[\"2xA10\"]\n",
    "TRAIN_DISPLAY_NAME = \"fa2 clm training\"\n",
    "TRAIN_DESCRIPTION = \"Training a causal language model using Flash Attention 2\"\n",
    "\n",
    "DATASTORE_NAME = \"workspaceartifactstore\"\n",
    "\n",
    "NUM_GPUS = 2\n",
    "\n",
    "# YearMonthDayHourMinute\n",
    "timenow = datetime.utcnow().strftime(\"%Y%m%d%H%M\")\n",
    "\n",
    "TRAINING_OUTPUT_PATH = MODEL_NAME + \"__\" + timenow"
   ]
  },
  {
   "cell_type": "code",
   "execution_count": 5,
   "metadata": {},
   "outputs": [],
   "source": [
    "def get_or_create_compute_target(\n",
    "    ml_client,\n",
    "    compute_name,\n",
    "    instance_type=\"STANDARD_DS3_v2\",\n",
    "    min_nodes=0,\n",
    "    max_nodes=1,\n",
    "    idle_time=300,\n",
    "):\n",
    "    try:\n",
    "        cmpute = ml_client.compute.get(compute_name)\n",
    "        cmpute_name = cmpute.name\n",
    "    except Exception:\n",
    "        print(f\"Creating a new {instance_type} compute target...\")\n",
    "        compute = AmlCompute(\n",
    "            name=compute_name,\n",
    "            size=instance_type,\n",
    "            min_instances=min_nodes,\n",
    "            max_instances=max_nodes,\n",
    "            idle_time_before_scale_down=idle_time,\n",
    "        )\n",
    "        ml_client.compute.begin_create_or_update(compute)\n",
    "        cmpute_name = compute.name\n",
    "    return cmpute_name\n",
    "\n",
    "\n",
    "def get_environment(\n",
    "    environment_name,\n",
    "    dependencies_dir,\n",
    "    ml_client,\n",
    "    gpu=False,\n",
    "    dep_yaml=None,\n",
    "    dockerfile_path=None,\n",
    "):\n",
    "    try:\n",
    "        env = ml_client.environments.get(name=environment_name)\n",
    "    except Exception:\n",
    "        if gpu:\n",
    "            image = \"mcr.microsoft.com/azureml/openmpi4.1.0-cuda11.8-cudnn8-ubuntu22.04\"\n",
    "        else:\n",
    "            image = \"mcr.microsoft.com/azureml/openmpi4.1.0-ubuntu20.04:latest\"\n",
    "\n",
    "        if dockerfile_path is not None:\n",
    "            build_context = BuildContext(\n",
    "                path=dependencies_dir, dockerfile_path=dockerfile_path\n",
    "            )\n",
    "\n",
    "            env = Environment(\n",
    "                name=environment_name,\n",
    "                description=\"Custom environment\",\n",
    "                build=build_context,\n",
    "            )\n",
    "        else:\n",
    "            env = Environment(\n",
    "                name=environment_name,\n",
    "                description=\"Custom environment\",\n",
    "                conda_file=os.path.join(dependencies_dir, dep_yaml),\n",
    "                image=image,\n",
    "            )\n",
    "\n",
    "        env = ml_client.environments.create_or_update(env)\n",
    "\n",
    "    return env"
   ]
  },
  {
   "cell_type": "code",
   "execution_count": 6,
   "metadata": {},
   "outputs": [
    {
     "name": "stderr",
     "output_type": "stream",
     "text": [
      "\u001b[32mUploading train (0.0 MBs): 100%|██████████| 404/404 [00:00<00:00, 1676.85it/s]\n",
      "\u001b[39m\n",
      "\n"
     ]
    },
    {
     "name": "stdout",
     "output_type": "stream",
     "text": [
      "Creating a new Standard_NV72ads_A10_v5 compute target...\n"
     ]
    },
    {
     "ename": "HttpResponseError",
     "evalue": "Operation returned an invalid status 'Compute name is invalid. It can include letters, digits and dashes. It must start with a letter, end'\nContent: {\n  \"error\": {\n    \"code\": \"UserError\",\n    \"severity\": null,\n    \"message\": \"Compute name is invalid. It can include letters, digits and dashes. It must start with a letter, end with a letter or digit, and be between 3 and 32 characters in length.\",\n    \"messageFormat\": null,\n    \"messageParameters\": null,\n    \"referenceCode\": null,\n    \"detailsUri\": null,\n    \"target\": null,\n    \"details\": [],\n    \"innerError\": null,\n    \"debugInfo\": null,\n    \"additionalInfo\": null\n  },\n  \"correlation\": {\n    \"operation\": \"9a8d36414581d528fe15491ca8e5a0c8\",\n    \"request\": \"8a53f3feeea1db7e\"\n  },\n  \"environment\": \"westus2\",\n  \"location\": \"westus2\",\n  \"time\": \"2024-02-03T04:12:26.670472+00:00\",\n  \"componentName\": \"machinelearningcompute\",\n  \"statusCode\": 400\n}",
     "output_type": "error",
     "traceback": [
      "\u001b[0;31m---------------------------------------------------------------------------\u001b[0m",
      "\u001b[0;31mResourceNotFoundError\u001b[0m                     Traceback (most recent call last)",
      "Cell \u001b[0;32mIn[5], line 10\u001b[0m, in \u001b[0;36mget_or_create_compute_target\u001b[0;34m(ml_client, compute_name, instance_type, min_nodes, max_nodes, idle_time)\u001b[0m\n\u001b[1;32m      9\u001b[0m \u001b[38;5;28;01mtry\u001b[39;00m:\n\u001b[0;32m---> 10\u001b[0m     cmpute \u001b[38;5;241m=\u001b[39m \u001b[43mml_client\u001b[49m\u001b[38;5;241;43m.\u001b[39;49m\u001b[43mcompute\u001b[49m\u001b[38;5;241;43m.\u001b[39;49m\u001b[43mget\u001b[49m\u001b[43m(\u001b[49m\u001b[43mcompute_name\u001b[49m\u001b[43m)\u001b[49m\n\u001b[1;32m     11\u001b[0m     cmpute_name \u001b[38;5;241m=\u001b[39m cmpute\u001b[38;5;241m.\u001b[39mname\n",
      "File \u001b[0;32m~/miniconda3/lib/python3.10/site-packages/azure/core/tracing/decorator.py:78\u001b[0m, in \u001b[0;36mdistributed_trace.<locals>.decorator.<locals>.wrapper_use_tracer\u001b[0;34m(*args, **kwargs)\u001b[0m\n\u001b[1;32m     77\u001b[0m \u001b[38;5;28;01mif\u001b[39;00m span_impl_type \u001b[38;5;129;01mis\u001b[39;00m \u001b[38;5;28;01mNone\u001b[39;00m:\n\u001b[0;32m---> 78\u001b[0m     \u001b[38;5;28;01mreturn\u001b[39;00m \u001b[43mfunc\u001b[49m\u001b[43m(\u001b[49m\u001b[38;5;241;43m*\u001b[39;49m\u001b[43margs\u001b[49m\u001b[43m,\u001b[49m\u001b[43m \u001b[49m\u001b[38;5;241;43m*\u001b[39;49m\u001b[38;5;241;43m*\u001b[39;49m\u001b[43mkwargs\u001b[49m\u001b[43m)\u001b[49m\n\u001b[1;32m     80\u001b[0m \u001b[38;5;66;03m# Merge span is parameter is set, but only if no explicit parent are passed\u001b[39;00m\n",
      "File \u001b[0;32m~/miniconda3/lib/python3.10/site-packages/azure/ai/ml/_telemetry/activity.py:275\u001b[0m, in \u001b[0;36mmonitor_with_activity.<locals>.monitor.<locals>.wrapper\u001b[0;34m(*args, **kwargs)\u001b[0m\n\u001b[1;32m    274\u001b[0m \u001b[38;5;28;01mwith\u001b[39;00m log_activity(logger, activity_name \u001b[38;5;129;01mor\u001b[39;00m f\u001b[38;5;241m.\u001b[39m\u001b[38;5;18m__name__\u001b[39m, activity_type, custom_dimensions):\n\u001b[0;32m--> 275\u001b[0m     \u001b[38;5;28;01mreturn\u001b[39;00m \u001b[43mf\u001b[49m\u001b[43m(\u001b[49m\u001b[38;5;241;43m*\u001b[39;49m\u001b[43margs\u001b[49m\u001b[43m,\u001b[49m\u001b[43m \u001b[49m\u001b[38;5;241;43m*\u001b[39;49m\u001b[38;5;241;43m*\u001b[39;49m\u001b[43mkwargs\u001b[49m\u001b[43m)\u001b[49m\n",
      "File \u001b[0;32m~/miniconda3/lib/python3.10/site-packages/azure/ai/ml/operations/_compute_operations.py:102\u001b[0m, in \u001b[0;36mComputeOperations.get\u001b[0;34m(self, name)\u001b[0m\n\u001b[1;32m     85\u001b[0m \u001b[38;5;250m\u001b[39m\u001b[38;5;124;03m\"\"\"Get a compute resource.\u001b[39;00m\n\u001b[1;32m     86\u001b[0m \n\u001b[1;32m     87\u001b[0m \u001b[38;5;124;03m:param name: Name of the compute resource.\u001b[39;00m\n\u001b[0;32m   (...)\u001b[0m\n\u001b[1;32m     99\u001b[0m \u001b[38;5;124;03m        :caption: Retrieving a compute resource from a workspace.\u001b[39;00m\n\u001b[1;32m    100\u001b[0m \u001b[38;5;124;03m\"\"\"\u001b[39;00m\n\u001b[0;32m--> 102\u001b[0m rest_obj \u001b[38;5;241m=\u001b[39m \u001b[38;5;28;43mself\u001b[39;49m\u001b[38;5;241;43m.\u001b[39;49m\u001b[43m_operation\u001b[49m\u001b[38;5;241;43m.\u001b[39;49m\u001b[43mget\u001b[49m\u001b[43m(\u001b[49m\n\u001b[1;32m    103\u001b[0m \u001b[43m    \u001b[49m\u001b[38;5;28;43mself\u001b[39;49m\u001b[38;5;241;43m.\u001b[39;49m\u001b[43m_operation_scope\u001b[49m\u001b[38;5;241;43m.\u001b[39;49m\u001b[43mresource_group_name\u001b[49m\u001b[43m,\u001b[49m\n\u001b[1;32m    104\u001b[0m \u001b[43m    \u001b[49m\u001b[38;5;28;43mself\u001b[39;49m\u001b[38;5;241;43m.\u001b[39;49m\u001b[43m_workspace_name\u001b[49m\u001b[43m,\u001b[49m\n\u001b[1;32m    105\u001b[0m \u001b[43m    \u001b[49m\u001b[43mname\u001b[49m\u001b[43m,\u001b[49m\n\u001b[1;32m    106\u001b[0m \u001b[43m\u001b[49m\u001b[43m)\u001b[49m\n\u001b[1;32m    107\u001b[0m \u001b[38;5;28;01mreturn\u001b[39;00m Compute\u001b[38;5;241m.\u001b[39m_from_rest_object(rest_obj)\n",
      "File \u001b[0;32m~/miniconda3/lib/python3.10/site-packages/azure/core/tracing/decorator.py:78\u001b[0m, in \u001b[0;36mdistributed_trace.<locals>.decorator.<locals>.wrapper_use_tracer\u001b[0;34m(*args, **kwargs)\u001b[0m\n\u001b[1;32m     77\u001b[0m \u001b[38;5;28;01mif\u001b[39;00m span_impl_type \u001b[38;5;129;01mis\u001b[39;00m \u001b[38;5;28;01mNone\u001b[39;00m:\n\u001b[0;32m---> 78\u001b[0m     \u001b[38;5;28;01mreturn\u001b[39;00m \u001b[43mfunc\u001b[49m\u001b[43m(\u001b[49m\u001b[38;5;241;43m*\u001b[39;49m\u001b[43margs\u001b[49m\u001b[43m,\u001b[49m\u001b[43m \u001b[49m\u001b[38;5;241;43m*\u001b[39;49m\u001b[38;5;241;43m*\u001b[39;49m\u001b[43mkwargs\u001b[49m\u001b[43m)\u001b[49m\n\u001b[1;32m     80\u001b[0m \u001b[38;5;66;03m# Merge span is parameter is set, but only if no explicit parent are passed\u001b[39;00m\n",
      "File \u001b[0;32m~/miniconda3/lib/python3.10/site-packages/azure/ai/ml/_restclient/v2022_10_01_preview/operations/_compute_operations.py:682\u001b[0m, in \u001b[0;36mComputeOperations.get\u001b[0;34m(self, resource_group_name, workspace_name, compute_name, **kwargs)\u001b[0m\n\u001b[1;32m    681\u001b[0m \u001b[38;5;28;01mif\u001b[39;00m response\u001b[38;5;241m.\u001b[39mstatus_code \u001b[38;5;129;01mnot\u001b[39;00m \u001b[38;5;129;01min\u001b[39;00m [\u001b[38;5;241m200\u001b[39m]:\n\u001b[0;32m--> 682\u001b[0m     \u001b[43mmap_error\u001b[49m\u001b[43m(\u001b[49m\u001b[43mstatus_code\u001b[49m\u001b[38;5;241;43m=\u001b[39;49m\u001b[43mresponse\u001b[49m\u001b[38;5;241;43m.\u001b[39;49m\u001b[43mstatus_code\u001b[49m\u001b[43m,\u001b[49m\u001b[43m \u001b[49m\u001b[43mresponse\u001b[49m\u001b[38;5;241;43m=\u001b[39;49m\u001b[43mresponse\u001b[49m\u001b[43m,\u001b[49m\u001b[43m \u001b[49m\u001b[43merror_map\u001b[49m\u001b[38;5;241;43m=\u001b[39;49m\u001b[43merror_map\u001b[49m\u001b[43m)\u001b[49m\n\u001b[1;32m    683\u001b[0m     error \u001b[38;5;241m=\u001b[39m \u001b[38;5;28mself\u001b[39m\u001b[38;5;241m.\u001b[39m_deserialize\u001b[38;5;241m.\u001b[39mfailsafe_deserialize(_models\u001b[38;5;241m.\u001b[39mErrorResponse, pipeline_response)\n",
      "File \u001b[0;32m~/miniconda3/lib/python3.10/site-packages/azure/core/exceptions.py:164\u001b[0m, in \u001b[0;36mmap_error\u001b[0;34m(status_code, response, error_map)\u001b[0m\n\u001b[1;32m    163\u001b[0m error \u001b[38;5;241m=\u001b[39m error_type(response\u001b[38;5;241m=\u001b[39mresponse)\n\u001b[0;32m--> 164\u001b[0m \u001b[38;5;28;01mraise\u001b[39;00m error\n",
      "\u001b[0;31mResourceNotFoundError\u001b[0m: Operation returned an invalid status 'Not Found'",
      "\nDuring handling of the above exception, another exception occurred:\n",
      "\u001b[0;31mHttpResponseError\u001b[0m                         Traceback (most recent call last)",
      "Cell \u001b[0;32mIn[6], line 9\u001b[0m\n\u001b[1;32m      1\u001b[0m train_environment \u001b[38;5;241m=\u001b[39m get_environment(\n\u001b[1;32m      2\u001b[0m     environment_name\u001b[38;5;241m=\u001b[39mTRAIN_ENV_NAME,\n\u001b[1;32m      3\u001b[0m     dependencies_dir\u001b[38;5;241m=\u001b[39mTRAIN_DIR,\n\u001b[0;32m   (...)\u001b[0m\n\u001b[1;32m      6\u001b[0m     dockerfile_path\u001b[38;5;241m=\u001b[39m\u001b[38;5;124m\"\u001b[39m\u001b[38;5;124mDockerfile\u001b[39m\u001b[38;5;124m\"\u001b[39m,\n\u001b[1;32m      7\u001b[0m )\n\u001b[0;32m----> 9\u001b[0m train_compute \u001b[38;5;241m=\u001b[39m \u001b[43mget_or_create_compute_target\u001b[49m\u001b[43m(\u001b[49m\n\u001b[1;32m     10\u001b[0m \u001b[43m    \u001b[49m\u001b[43mml_client\u001b[49m\u001b[38;5;241;43m=\u001b[39;49m\u001b[43mml_client\u001b[49m\u001b[43m,\u001b[49m\n\u001b[1;32m     11\u001b[0m \u001b[43m    \u001b[49m\u001b[43mcompute_name\u001b[49m\u001b[38;5;241;43m=\u001b[39;49m\u001b[43mTRAIN_COMPUTE_NAME\u001b[49m\u001b[43m,\u001b[49m\n\u001b[1;32m     12\u001b[0m \u001b[43m    \u001b[49m\u001b[43mmin_nodes\u001b[49m\u001b[38;5;241;43m=\u001b[39;49m\u001b[38;5;241;43m0\u001b[39;49m\u001b[43m,\u001b[49m\n\u001b[1;32m     13\u001b[0m \u001b[43m    \u001b[49m\u001b[43mmax_nodes\u001b[49m\u001b[38;5;241;43m=\u001b[39;49m\u001b[38;5;241;43m2\u001b[39;49m\u001b[43m,\u001b[49m\n\u001b[1;32m     14\u001b[0m \u001b[43m    \u001b[49m\u001b[43minstance_type\u001b[49m\u001b[38;5;241;43m=\u001b[39;49m\u001b[43mTRAIN_INSTANCE_TYPE\u001b[49m\u001b[43m,\u001b[49m\n\u001b[1;32m     15\u001b[0m \u001b[43m)\u001b[49m\n",
      "Cell \u001b[0;32mIn[5], line 21\u001b[0m, in \u001b[0;36mget_or_create_compute_target\u001b[0;34m(ml_client, compute_name, instance_type, min_nodes, max_nodes, idle_time)\u001b[0m\n\u001b[1;32m     13\u001b[0m     \u001b[38;5;28mprint\u001b[39m(\u001b[38;5;124mf\u001b[39m\u001b[38;5;124m\"\u001b[39m\u001b[38;5;124mCreating a new \u001b[39m\u001b[38;5;132;01m{\u001b[39;00minstance_type\u001b[38;5;132;01m}\u001b[39;00m\u001b[38;5;124m compute target...\u001b[39m\u001b[38;5;124m\"\u001b[39m)\n\u001b[1;32m     14\u001b[0m     compute \u001b[38;5;241m=\u001b[39m AmlCompute(\n\u001b[1;32m     15\u001b[0m         name\u001b[38;5;241m=\u001b[39mcompute_name,\n\u001b[1;32m     16\u001b[0m         size\u001b[38;5;241m=\u001b[39minstance_type,\n\u001b[0;32m   (...)\u001b[0m\n\u001b[1;32m     19\u001b[0m         idle_time_before_scale_down\u001b[38;5;241m=\u001b[39midle_time,\n\u001b[1;32m     20\u001b[0m     )\n\u001b[0;32m---> 21\u001b[0m     \u001b[43mml_client\u001b[49m\u001b[38;5;241;43m.\u001b[39;49m\u001b[43mcompute\u001b[49m\u001b[38;5;241;43m.\u001b[39;49m\u001b[43mbegin_create_or_update\u001b[49m\u001b[43m(\u001b[49m\u001b[43mcompute\u001b[49m\u001b[43m)\u001b[49m\n\u001b[1;32m     22\u001b[0m     cmpute_name \u001b[38;5;241m=\u001b[39m compute\u001b[38;5;241m.\u001b[39mname\n\u001b[1;32m     23\u001b[0m \u001b[38;5;28;01mreturn\u001b[39;00m cmpute_name\n",
      "File \u001b[0;32m~/miniconda3/lib/python3.10/site-packages/azure/core/tracing/decorator.py:78\u001b[0m, in \u001b[0;36mdistributed_trace.<locals>.decorator.<locals>.wrapper_use_tracer\u001b[0;34m(*args, **kwargs)\u001b[0m\n\u001b[1;32m     76\u001b[0m span_impl_type \u001b[38;5;241m=\u001b[39m settings\u001b[38;5;241m.\u001b[39mtracing_implementation()\n\u001b[1;32m     77\u001b[0m \u001b[38;5;28;01mif\u001b[39;00m span_impl_type \u001b[38;5;129;01mis\u001b[39;00m \u001b[38;5;28;01mNone\u001b[39;00m:\n\u001b[0;32m---> 78\u001b[0m     \u001b[38;5;28;01mreturn\u001b[39;00m \u001b[43mfunc\u001b[49m\u001b[43m(\u001b[49m\u001b[38;5;241;43m*\u001b[39;49m\u001b[43margs\u001b[49m\u001b[43m,\u001b[49m\u001b[43m \u001b[49m\u001b[38;5;241;43m*\u001b[39;49m\u001b[38;5;241;43m*\u001b[39;49m\u001b[43mkwargs\u001b[49m\u001b[43m)\u001b[49m\n\u001b[1;32m     80\u001b[0m \u001b[38;5;66;03m# Merge span is parameter is set, but only if no explicit parent are passed\u001b[39;00m\n\u001b[1;32m     81\u001b[0m \u001b[38;5;28;01mif\u001b[39;00m merge_span \u001b[38;5;129;01mand\u001b[39;00m \u001b[38;5;129;01mnot\u001b[39;00m passed_in_parent:\n",
      "File \u001b[0;32m~/miniconda3/lib/python3.10/site-packages/azure/ai/ml/_telemetry/activity.py:275\u001b[0m, in \u001b[0;36mmonitor_with_activity.<locals>.monitor.<locals>.wrapper\u001b[0;34m(*args, **kwargs)\u001b[0m\n\u001b[1;32m    272\u001b[0m \u001b[38;5;129m@functools\u001b[39m\u001b[38;5;241m.\u001b[39mwraps(f)\n\u001b[1;32m    273\u001b[0m \u001b[38;5;28;01mdef\u001b[39;00m \u001b[38;5;21mwrapper\u001b[39m(\u001b[38;5;241m*\u001b[39margs, \u001b[38;5;241m*\u001b[39m\u001b[38;5;241m*\u001b[39mkwargs):\n\u001b[1;32m    274\u001b[0m     \u001b[38;5;28;01mwith\u001b[39;00m log_activity(logger, activity_name \u001b[38;5;129;01mor\u001b[39;00m f\u001b[38;5;241m.\u001b[39m\u001b[38;5;18m__name__\u001b[39m, activity_type, custom_dimensions):\n\u001b[0;32m--> 275\u001b[0m         \u001b[38;5;28;01mreturn\u001b[39;00m \u001b[43mf\u001b[49m\u001b[43m(\u001b[49m\u001b[38;5;241;43m*\u001b[39;49m\u001b[43margs\u001b[49m\u001b[43m,\u001b[49m\u001b[43m \u001b[49m\u001b[38;5;241;43m*\u001b[39;49m\u001b[38;5;241;43m*\u001b[39;49m\u001b[43mkwargs\u001b[49m\u001b[43m)\u001b[49m\n",
      "File \u001b[0;32m~/miniconda3/lib/python3.10/site-packages/azure/ai/ml/operations/_compute_operations.py:173\u001b[0m, in \u001b[0;36mComputeOperations.begin_create_or_update\u001b[0;34m(self, compute)\u001b[0m\n\u001b[1;32m    166\u001b[0m compute\u001b[38;5;241m.\u001b[39m_set_full_subnet_name(\n\u001b[1;32m    167\u001b[0m     \u001b[38;5;28mself\u001b[39m\u001b[38;5;241m.\u001b[39m_operation_scope\u001b[38;5;241m.\u001b[39msubscription_id,\n\u001b[1;32m    168\u001b[0m     \u001b[38;5;28mself\u001b[39m\u001b[38;5;241m.\u001b[39m_operation_scope\u001b[38;5;241m.\u001b[39mresource_group_name,\n\u001b[1;32m    169\u001b[0m )\n\u001b[1;32m    171\u001b[0m compute_rest_obj \u001b[38;5;241m=\u001b[39m compute\u001b[38;5;241m.\u001b[39m_to_rest_object()\n\u001b[0;32m--> 173\u001b[0m poller \u001b[38;5;241m=\u001b[39m \u001b[38;5;28;43mself\u001b[39;49m\u001b[38;5;241;43m.\u001b[39;49m\u001b[43m_operation\u001b[49m\u001b[38;5;241;43m.\u001b[39;49m\u001b[43mbegin_create_or_update\u001b[49m\u001b[43m(\u001b[49m\n\u001b[1;32m    174\u001b[0m \u001b[43m    \u001b[49m\u001b[38;5;28;43mself\u001b[39;49m\u001b[38;5;241;43m.\u001b[39;49m\u001b[43m_operation_scope\u001b[49m\u001b[38;5;241;43m.\u001b[39;49m\u001b[43mresource_group_name\u001b[49m\u001b[43m,\u001b[49m\n\u001b[1;32m    175\u001b[0m \u001b[43m    \u001b[49m\u001b[38;5;28;43mself\u001b[39;49m\u001b[38;5;241;43m.\u001b[39;49m\u001b[43m_workspace_name\u001b[49m\u001b[43m,\u001b[49m\n\u001b[1;32m    176\u001b[0m \u001b[43m    \u001b[49m\u001b[43mcompute_name\u001b[49m\u001b[38;5;241;43m=\u001b[39;49m\u001b[43mcompute\u001b[49m\u001b[38;5;241;43m.\u001b[39;49m\u001b[43mname\u001b[49m\u001b[43m,\u001b[49m\n\u001b[1;32m    177\u001b[0m \u001b[43m    \u001b[49m\u001b[43mparameters\u001b[49m\u001b[38;5;241;43m=\u001b[39;49m\u001b[43mcompute_rest_obj\u001b[49m\u001b[43m,\u001b[49m\n\u001b[1;32m    178\u001b[0m \u001b[43m    \u001b[49m\u001b[43mpolling\u001b[49m\u001b[38;5;241;43m=\u001b[39;49m\u001b[38;5;28;43;01mTrue\u001b[39;49;00m\u001b[43m,\u001b[49m\n\u001b[1;32m    179\u001b[0m \u001b[43m    \u001b[49m\u001b[38;5;28;43mcls\u001b[39;49m\u001b[38;5;241;43m=\u001b[39;49m\u001b[38;5;28;43;01mlambda\u001b[39;49;00m\u001b[43m \u001b[49m\u001b[43mresponse\u001b[49m\u001b[43m,\u001b[49m\u001b[43m \u001b[49m\u001b[43mdeserialized\u001b[49m\u001b[43m,\u001b[49m\u001b[43m \u001b[49m\u001b[43mheaders\u001b[49m\u001b[43m:\u001b[49m\u001b[43m \u001b[49m\u001b[43mCompute\u001b[49m\u001b[38;5;241;43m.\u001b[39;49m\u001b[43m_from_rest_object\u001b[49m\u001b[43m(\u001b[49m\u001b[43mdeserialized\u001b[49m\u001b[43m)\u001b[49m\u001b[43m,\u001b[49m\n\u001b[1;32m    180\u001b[0m \u001b[43m\u001b[49m\u001b[43m)\u001b[49m\n\u001b[1;32m    182\u001b[0m \u001b[38;5;28;01mreturn\u001b[39;00m poller\n",
      "File \u001b[0;32m~/miniconda3/lib/python3.10/site-packages/azure/core/tracing/decorator.py:78\u001b[0m, in \u001b[0;36mdistributed_trace.<locals>.decorator.<locals>.wrapper_use_tracer\u001b[0;34m(*args, **kwargs)\u001b[0m\n\u001b[1;32m     76\u001b[0m span_impl_type \u001b[38;5;241m=\u001b[39m settings\u001b[38;5;241m.\u001b[39mtracing_implementation()\n\u001b[1;32m     77\u001b[0m \u001b[38;5;28;01mif\u001b[39;00m span_impl_type \u001b[38;5;129;01mis\u001b[39;00m \u001b[38;5;28;01mNone\u001b[39;00m:\n\u001b[0;32m---> 78\u001b[0m     \u001b[38;5;28;01mreturn\u001b[39;00m \u001b[43mfunc\u001b[49m\u001b[43m(\u001b[49m\u001b[38;5;241;43m*\u001b[39;49m\u001b[43margs\u001b[49m\u001b[43m,\u001b[49m\u001b[43m \u001b[49m\u001b[38;5;241;43m*\u001b[39;49m\u001b[38;5;241;43m*\u001b[39;49m\u001b[43mkwargs\u001b[49m\u001b[43m)\u001b[49m\n\u001b[1;32m     80\u001b[0m \u001b[38;5;66;03m# Merge span is parameter is set, but only if no explicit parent are passed\u001b[39;00m\n\u001b[1;32m     81\u001b[0m \u001b[38;5;28;01mif\u001b[39;00m merge_span \u001b[38;5;129;01mand\u001b[39;00m \u001b[38;5;129;01mnot\u001b[39;00m passed_in_parent:\n",
      "File \u001b[0;32m~/miniconda3/lib/python3.10/site-packages/azure/ai/ml/_restclient/v2022_10_01_preview/operations/_compute_operations.py:803\u001b[0m, in \u001b[0;36mComputeOperations.begin_create_or_update\u001b[0;34m(self, resource_group_name, workspace_name, compute_name, parameters, **kwargs)\u001b[0m\n\u001b[1;32m    801\u001b[0m cont_token \u001b[38;5;241m=\u001b[39m kwargs\u001b[38;5;241m.\u001b[39mpop(\u001b[38;5;124m'\u001b[39m\u001b[38;5;124mcontinuation_token\u001b[39m\u001b[38;5;124m'\u001b[39m, \u001b[38;5;28;01mNone\u001b[39;00m)  \u001b[38;5;66;03m# type: Optional[str]\u001b[39;00m\n\u001b[1;32m    802\u001b[0m \u001b[38;5;28;01mif\u001b[39;00m cont_token \u001b[38;5;129;01mis\u001b[39;00m \u001b[38;5;28;01mNone\u001b[39;00m:\n\u001b[0;32m--> 803\u001b[0m     raw_result \u001b[38;5;241m=\u001b[39m \u001b[38;5;28;43mself\u001b[39;49m\u001b[38;5;241;43m.\u001b[39;49m\u001b[43m_create_or_update_initial\u001b[49m\u001b[43m(\u001b[49m\n\u001b[1;32m    804\u001b[0m \u001b[43m        \u001b[49m\u001b[43mresource_group_name\u001b[49m\u001b[38;5;241;43m=\u001b[39;49m\u001b[43mresource_group_name\u001b[49m\u001b[43m,\u001b[49m\n\u001b[1;32m    805\u001b[0m \u001b[43m        \u001b[49m\u001b[43mworkspace_name\u001b[49m\u001b[38;5;241;43m=\u001b[39;49m\u001b[43mworkspace_name\u001b[49m\u001b[43m,\u001b[49m\n\u001b[1;32m    806\u001b[0m \u001b[43m        \u001b[49m\u001b[43mcompute_name\u001b[49m\u001b[38;5;241;43m=\u001b[39;49m\u001b[43mcompute_name\u001b[49m\u001b[43m,\u001b[49m\n\u001b[1;32m    807\u001b[0m \u001b[43m        \u001b[49m\u001b[43mparameters\u001b[49m\u001b[38;5;241;43m=\u001b[39;49m\u001b[43mparameters\u001b[49m\u001b[43m,\u001b[49m\n\u001b[1;32m    808\u001b[0m \u001b[43m        \u001b[49m\u001b[43mapi_version\u001b[49m\u001b[38;5;241;43m=\u001b[39;49m\u001b[43mapi_version\u001b[49m\u001b[43m,\u001b[49m\n\u001b[1;32m    809\u001b[0m \u001b[43m        \u001b[49m\u001b[43mcontent_type\u001b[49m\u001b[38;5;241;43m=\u001b[39;49m\u001b[43mcontent_type\u001b[49m\u001b[43m,\u001b[49m\n\u001b[1;32m    810\u001b[0m \u001b[43m        \u001b[49m\u001b[38;5;28;43mcls\u001b[39;49m\u001b[38;5;241;43m=\u001b[39;49m\u001b[38;5;28;43;01mlambda\u001b[39;49;00m\u001b[43m \u001b[49m\u001b[43mx\u001b[49m\u001b[43m,\u001b[49m\u001b[43my\u001b[49m\u001b[43m,\u001b[49m\u001b[43mz\u001b[49m\u001b[43m:\u001b[49m\u001b[43m \u001b[49m\u001b[43mx\u001b[49m\u001b[43m,\u001b[49m\n\u001b[1;32m    811\u001b[0m \u001b[43m        \u001b[49m\u001b[38;5;241;43m*\u001b[39;49m\u001b[38;5;241;43m*\u001b[39;49m\u001b[43mkwargs\u001b[49m\n\u001b[1;32m    812\u001b[0m \u001b[43m    \u001b[49m\u001b[43m)\u001b[49m\n\u001b[1;32m    813\u001b[0m kwargs\u001b[38;5;241m.\u001b[39mpop(\u001b[38;5;124m'\u001b[39m\u001b[38;5;124merror_map\u001b[39m\u001b[38;5;124m'\u001b[39m, \u001b[38;5;28;01mNone\u001b[39;00m)\n\u001b[1;32m    815\u001b[0m \u001b[38;5;28;01mdef\u001b[39;00m \u001b[38;5;21mget_long_running_output\u001b[39m(pipeline_response):\n",
      "File \u001b[0;32m~/miniconda3/lib/python3.10/site-packages/azure/ai/ml/_restclient/v2022_10_01_preview/operations/_compute_operations.py:738\u001b[0m, in \u001b[0;36mComputeOperations._create_or_update_initial\u001b[0;34m(self, resource_group_name, workspace_name, compute_name, parameters, **kwargs)\u001b[0m\n\u001b[1;32m    736\u001b[0m \u001b[38;5;28;01mif\u001b[39;00m response\u001b[38;5;241m.\u001b[39mstatus_code \u001b[38;5;129;01mnot\u001b[39;00m \u001b[38;5;129;01min\u001b[39;00m [\u001b[38;5;241m200\u001b[39m, \u001b[38;5;241m201\u001b[39m]:\n\u001b[1;32m    737\u001b[0m     map_error(status_code\u001b[38;5;241m=\u001b[39mresponse\u001b[38;5;241m.\u001b[39mstatus_code, response\u001b[38;5;241m=\u001b[39mresponse, error_map\u001b[38;5;241m=\u001b[39merror_map)\n\u001b[0;32m--> 738\u001b[0m     \u001b[38;5;28;01mraise\u001b[39;00m HttpResponseError(response\u001b[38;5;241m=\u001b[39mresponse, error_format\u001b[38;5;241m=\u001b[39mARMErrorFormat)\n\u001b[1;32m    740\u001b[0m response_headers \u001b[38;5;241m=\u001b[39m {}\n\u001b[1;32m    741\u001b[0m \u001b[38;5;28;01mif\u001b[39;00m response\u001b[38;5;241m.\u001b[39mstatus_code \u001b[38;5;241m==\u001b[39m \u001b[38;5;241m200\u001b[39m:\n",
      "\u001b[0;31mHttpResponseError\u001b[0m: Operation returned an invalid status 'Compute name is invalid. It can include letters, digits and dashes. It must start with a letter, end'\nContent: {\n  \"error\": {\n    \"code\": \"UserError\",\n    \"severity\": null,\n    \"message\": \"Compute name is invalid. It can include letters, digits and dashes. It must start with a letter, end with a letter or digit, and be between 3 and 32 characters in length.\",\n    \"messageFormat\": null,\n    \"messageParameters\": null,\n    \"referenceCode\": null,\n    \"detailsUri\": null,\n    \"target\": null,\n    \"details\": [],\n    \"innerError\": null,\n    \"debugInfo\": null,\n    \"additionalInfo\": null\n  },\n  \"correlation\": {\n    \"operation\": \"9a8d36414581d528fe15491ca8e5a0c8\",\n    \"request\": \"8a53f3feeea1db7e\"\n  },\n  \"environment\": \"westus2\",\n  \"location\": \"westus2\",\n  \"time\": \"2024-02-03T04:12:26.670472+00:00\",\n  \"componentName\": \"machinelearningcompute\",\n  \"statusCode\": 400\n}"
     ]
    }
   ],
   "source": [
    "train_environment = get_environment(\n",
    "    environment_name=TRAIN_ENV_NAME,\n",
    "    dependencies_dir=TRAIN_DIR,\n",
    "    ml_client=ml_client,\n",
    "    gpu=True,\n",
    "    dockerfile_path=\"Dockerfile\",\n",
    ")\n",
    "\n",
    "train_compute = get_or_create_compute_target(\n",
    "    ml_client=ml_client,\n",
    "    compute_name=TRAIN_COMPUTE_NAME,\n",
    "    min_nodes=0,\n",
    "    max_nodes=2,\n",
    "    instance_type=TRAIN_INSTANCE_TYPE,\n",
    ")"
   ]
  },
  {
   "cell_type": "code",
   "execution_count": null,
   "metadata": {},
   "outputs": [],
   "source": [
    "train_command = command(\n",
    "    name=\"train\",\n",
    "    display_name=TRAIN_DISPLAY_NAME,\n",
    "    inputs={\n",
    "        \"num_gpus\": NUM_GPUS,\n",
    "    },\n",
    "    outputs={\n",
    "        \"output_dir\": Output(\n",
    "            type=\"uri_folder\",\n",
    "            path=f\"azureml://datastores/{DATASTORE_NAME}/paths/{TRAINING_OUTPUT_PATH}\",\n",
    "            mode=\"rw_mount\",\n",
    "        ),\n",
    "    },\n",
    "    # The source folder of the component\n",
    "    code=\"./train\",\n",
    "    command=\"\"\"accelerate launch \\\n",
    "             --num_machines 1 \\\n",
    "             --multi_gpu \\\n",
    "             --num_processes  ${{inputs.num_gpus}} \\\n",
    "                train.py \\\n",
    "                --model_name_or_path \"mistralai/Mistral-7B-v0.1\" \\\n",
    "                --max_seq_length 4096 \\\n",
    "                --evaluation_strategy epoch \\\n",
    "                --save_strategy epoch \\\n",
    "                --logging_steps 25 \\\n",
    "                --per_device_train_batch_size 8 \\\n",
    "                --per_device_eval_batch_size 8 \\\n",
    "                --learning_rate 1e-4 \\\n",
    "                --num_train_epochs 3 \\\n",
    "                --weight_decay 0.01 \\\n",
    "                --optim paged_adamw_8bit \\\n",
    "                --warmup_ratio 0.05 \\\n",
    "                --bf16 \\\n",
    "                --output_dir ${{outputs.output_dir}} \\\n",
    "                --logging_dir ${{outputs.output_dir}} \\\n",
    "                --dataloader_num_workers 4 \\\n",
    "                --gradient_accumulation_steps 1 \\\n",
    "                --seed 42 \\\n",
    "                --report_to mlflow \\\n",
    "                --attn_implementation \"eager\" \\\n",
    "                --num_proc 8 \\ \n",
    "                -- \n",
    "            \"\"\",\n",
    "    environment=f\"{train_environment.name}:{train_environment.version}\",\n",
    "    compute=train_compute,\n",
    "    instance_count=1,\n",
    "    shm_size=\"16g\",\n",
    ")"
   ]
  },
  {
   "cell_type": "code",
   "execution_count": null,
   "metadata": {},
   "outputs": [],
   "source": [
    "@dsl.pipeline(\n",
    "    description=TRAIN_DESCRIPTION,\n",
    "    display_name=TRAIN_DISPLAY_NAME,\n",
    ")\n",
    "def pipeline_func():\n",
    "    train_job = train_command()\n",
    "\n",
    "    return {\n",
    "        \"pipeline_job_train_data\": train_job.outputs.output_dir,\n",
    "    }\n",
    "\n",
    "\n",
    "pipeline = pipeline_func()\n",
    "\n",
    "\n",
    "pipeline_job = ml_client.jobs.create_or_update(\n",
    "    pipeline,\n",
    "    experiment_name=TRAINING_OUTPUT_PATH,\n",
    ")"
   ]
  },
  {
   "cell_type": "code",
   "execution_count": null,
   "metadata": {},
   "outputs": [],
   "source": [
    "pipeline_job"
   ]
  }
 ],
 "metadata": {
  "kernelspec": {
   "display_name": "base",
   "language": "python",
   "name": "python3"
  },
  "language_info": {
   "codemirror_mode": {
    "name": "ipython",
    "version": 3
   },
   "file_extension": ".py",
   "mimetype": "text/x-python",
   "name": "python",
   "nbconvert_exporter": "python",
   "pygments_lexer": "ipython3",
   "version": "3.10.10"
  }
 },
 "nbformat": 4,
 "nbformat_minor": 2
}
